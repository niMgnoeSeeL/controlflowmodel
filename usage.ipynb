{
 "cells": [
  {
   "cell_type": "code",
   "execution_count": 1,
   "metadata": {},
   "outputs": [],
   "source": [
    "%load_ext autoreload\n",
    "%autoreload 2"
   ]
  },
  {
   "attachments": {},
   "cell_type": "markdown",
   "metadata": {},
   "source": [
    "# Pilot CFM implementation\n",
    "\n",
    "Implementation consists of two stages:\n",
    "\n",
    "0. (generate data)\n",
    "1. Model the relative input range of the callee function regarding the input of the caller function\n",
    "2. Model the branch condition regarding the input of each function"
   ]
  },
  {
   "attachments": {},
   "cell_type": "markdown",
   "metadata": {},
   "source": [
    "## Stage 0. Generate data"
   ]
  },
  {
   "cell_type": "markdown",
   "metadata": {},
   "source": [
    "### Load example programs\n"
   ]
  },
  {
   "cell_type": "code",
   "execution_count": 2,
   "metadata": {},
   "outputs": [],
   "source": [
    "from example.python.crash import crashme_tup, crashme3_tup\n",
    "from example.python.triangle import triangle_tup, triangle3_tup\n",
    "from example.python.count import count_tup\n",
    "\n",
    "import inspect"
   ]
  },
  {
   "cell_type": "markdown",
   "metadata": {},
   "source": [
    "### Fuzzing configuration\n"
   ]
  },
  {
   "cell_type": "code",
   "execution_count": 3,
   "metadata": {},
   "outputs": [
    {
     "name": "stdout",
     "output_type": "stream",
     "text": [
      "def crashme3(s):\n",
      "    if len(s) != 15:\n",
      "        raise Exception(\"Wrong input.\")\n",
      "    if s[0] == \"1\":\n",
      "        crashme(s[3:7])\n",
      "    elif s[1] == \"1\":\n",
      "        crashme(s[7:11])\n",
      "    elif s[2] == \"1\":\n",
      "        crashme(s[11:15])\n",
      "    else:\n",
      "        raise Exception(\"Wrong input.\")\n",
      "\n",
      "Deep bug!\n"
     ]
    }
   ],
   "source": [
    "program, seed_input_list = crashme3_tup\n",
    "# program, seed_input_list = triangle3_tup\n",
    "print(inspect.getsource(program))\n",
    "try:\n",
    "    program(seed_input_list[1])\n",
    "except Exception as e:\n",
    "    print(e)\n",
    "\n",
    "n = 10000"
   ]
  },
  {
   "attachments": {},
   "cell_type": "markdown",
   "metadata": {},
   "source": [
    "### Run fuzzer and record input, and the execution trace\n"
   ]
  },
  {
   "cell_type": "code",
   "execution_count": 4,
   "metadata": {},
   "outputs": [
    {
     "name": "stdout",
     "output_type": "stream",
     "text": [
      "Unique path: 17\n",
      "\n",
      "path=(('', ('crashme3', 10)), ('', ('crashme3', 12)), ('', ('crashme3', 14)), ('', ('crashme3', 16)), ('', ('crashme3', 19)), ('', ('__exit__', 83)))\n",
      "inputs={'gz4asdbQd7b\\x01mD!', '000ab$cdefghijl', 'v5as%v`fbad7Qdr', 'G000#abcdefghC4', '$!0a5bkdeffghld', 'Q0a?f@bk`!UwdS2', '00asdfioB7ye2bd', '000abcdefghijkl', '20p12fq7Rjdgkex', '002vqb#vdefHi;L'}\n",
      "\n",
      "path=(('', ('crashme3', 10)), ('', ('crashme3', 12)), ('', ('crashme3', 13)), ('crashme3:13', ('crashme', 2)), ('crashme3:13', ('crashme', 3)), ('crashme3:13', ('crashme', 4)), ('crashme3:13', ('crashme', 5)), ('crashme3:13', ('crashme', 6)), ('', ('__exit__', 83)))\n",
      "inputs={'100bad!asdfqwer', '100bad!asdCfqer', '100bad!asdfRmqr', '100bad!i+s&df\\x7fW', '10Xbad!sdfq<ser', '10pbad!adfqverl', '100bad!adfqwer|', '100bad!asd&Qwer', '100bad!asdfawEr', '1&0bad!asdfqwer'}\n",
      "\n",
      "path=(('', ('crashme3', 10)), ('', ('crashme3', 12)), ('', ('crashme3', 14)), ('', ('crashme3', 15)), ('crashme3:15', ('crashme', 2)), ('crashme3:15', ('crashme', 3)), ('crashme3:15', ('crashme', 4)), ('crashme3:15', ('crashme', 5)), ('crashme3:15', ('crashme', 6)), ('', ('__exit__', 83)))\n",
      "inputs={'01\\x10asddbad!qwer', '010asdfbad!qwer', '010agsfbad!qwe)', 'd10asdfbad!qwer', '01&0afAbad!qwr)', '810asdfbad!qwdr', '010as^fbad!qwer', '01:asdfbad!qwer', '012asfnbad!ev<)', '010esdfbad!awer'}\n",
      "\n"
     ]
    }
   ],
   "source": [
    "from GreyboxFuzzer import GreyboxFuzzerRecorder\n",
    "from MutationFuzzer import Mutator, PowerSchedule\n",
    "from Coverage import FunctionContCovRunner\n",
    "\n",
    "greybox_recorder = GreyboxFuzzerRecorder(\n",
    "    seed_input_list, Mutator(), PowerSchedule()\n",
    ")\n",
    "runner = FunctionContCovRunner(program)\n",
    "greybox_recorder.runs(runner, trials=n)\n",
    "record = greybox_recorder.get_record()\n",
    "\n",
    "print(f\"Unique path: {len(record)}\\n\")\n",
    "for path, inputs in list(record.items())[:3]:\n",
    "    print(f\"{path=}\")\n",
    "    print(f\"{inputs=}\")\n",
    "    print()"
   ]
  },
  {
   "attachments": {},
   "cell_type": "markdown",
   "metadata": {},
   "source": [
    "### Create a control-flow graph from execution traces"
   ]
  },
  {
   "cell_type": "code",
   "execution_count": 5,
   "metadata": {},
   "outputs": [
    {
     "data": {
      "image/svg+xml": "<?xml version=\"1.0\" encoding=\"UTF-8\" standalone=\"no\"?>\n<!DOCTYPE svg PUBLIC \"-//W3C//DTD SVG 1.1//EN\"\n \"http://www.w3.org/Graphics/SVG/1.1/DTD/svg11.dtd\">\n<!-- Generated by graphviz version 5.0.1 (20220820.1526)\n -->\n<!-- Pages: 1 -->\n<svg width=\"1369pt\" height=\"931pt\"\n viewBox=\"0.00 0.00 1369.49 931.00\" xmlns=\"http://www.w3.org/2000/svg\" xmlns:xlink=\"http://www.w3.org/1999/xlink\">\n<g id=\"graph0\" class=\"graph\" transform=\"scale(1 1) rotate(0) translate(4 927)\">\n<polygon fill=\"white\" stroke=\"none\" points=\"-4,4 -4,-927 1365.49,-927 1365.49,4 -4,4\"/>\n<text text-anchor=\"middle\" x=\"680.74\" y=\"-7.8\" font-family=\"Times,serif\" font-size=\"14.00\">context&#45;sensitive execution path graph</text>\n<!-- N0 -->\n<g id=\"node1\" class=\"node\">\n<title>N0</title>\n<ellipse fill=\"none\" stroke=\"black\" cx=\"1041.24\" cy=\"-905\" rx=\"39.79\" ry=\"18\"/>\n<text text-anchor=\"start\" x=\"1018.74\" y=\"-901.3\" font-family=\"Times,serif\" font-size=\"14.00\">ENTRY</text>\n</g>\n<!-- N1 -->\n<g id=\"node2\" class=\"node\">\n<title>N1</title>\n<ellipse fill=\"none\" stroke=\"black\" cx=\"1041.24\" cy=\"-833\" rx=\"81.49\" ry=\"18\"/>\n<text text-anchor=\"start\" x=\"986.74\" y=\"-829.3\" font-family=\"Times,serif\" font-size=\"14.00\">(&#39;&#39;, (&#39;crashme3&#39;, 10))</text>\n</g>\n<!-- N0&#45;&gt;N1 -->\n<g id=\"edge1\" class=\"edge\">\n<title>N0&#45;&gt;N1</title>\n<path fill=\"none\" stroke=\"black\" d=\"M1041.24,-886.7C1041.24,-878.98 1041.24,-869.71 1041.24,-861.11\"/>\n<polygon fill=\"black\" stroke=\"black\" points=\"1044.74,-861.1 1041.24,-851.1 1037.74,-861.1 1044.74,-861.1\"/>\n</g>\n<!-- N2 -->\n<g id=\"node3\" class=\"node\">\n<title>N2</title>\n<ellipse fill=\"none\" stroke=\"black\" cx=\"987.24\" cy=\"-761\" rx=\"81.49\" ry=\"18\"/>\n<text text-anchor=\"start\" x=\"932.74\" y=\"-757.3\" font-family=\"Times,serif\" font-size=\"14.00\">(&#39;&#39;, (&#39;crashme3&#39;, 12))</text>\n</g>\n<!-- N1&#45;&gt;N2 -->\n<g id=\"edge2\" class=\"edge\">\n<title>N1&#45;&gt;N2</title>\n<path fill=\"none\" stroke=\"black\" d=\"M1028.17,-815.05C1021.67,-806.63 1013.69,-796.28 1006.5,-786.97\"/>\n<polygon fill=\"black\" stroke=\"black\" points=\"1009.07,-784.57 1000.19,-778.79 1003.53,-788.84 1009.07,-784.57\"/>\n</g>\n<!-- N25 -->\n<g id=\"node26\" class=\"node\">\n<title>N25</title>\n<ellipse fill=\"none\" stroke=\"black\" cx=\"1280.24\" cy=\"-689\" rx=\"81.49\" ry=\"18\"/>\n<text text-anchor=\"start\" x=\"1225.74\" y=\"-685.3\" font-family=\"Times,serif\" font-size=\"14.00\">(&#39;&#39;, (&#39;crashme3&#39;, 11))</text>\n</g>\n<!-- N1&#45;&gt;N25 -->\n<g id=\"edge3\" class=\"edge\">\n<title>N1&#45;&gt;N25</title>\n<path fill=\"none\" stroke=\"black\" d=\"M1068.19,-815.99C1111.32,-790.37 1195.87,-740.13 1244.16,-711.44\"/>\n<polygon fill=\"black\" stroke=\"black\" points=\"1246.21,-714.29 1253.02,-706.17 1242.64,-708.27 1246.21,-714.29\"/>\n</g>\n<!-- N3 -->\n<g id=\"node4\" class=\"node\">\n<title>N3</title>\n<ellipse fill=\"none\" stroke=\"black\" cx=\"611.24\" cy=\"-689\" rx=\"81.49\" ry=\"18\"/>\n<text text-anchor=\"start\" x=\"556.74\" y=\"-685.3\" font-family=\"Times,serif\" font-size=\"14.00\">(&#39;&#39;, (&#39;crashme3&#39;, 14))</text>\n</g>\n<!-- N2&#45;&gt;N3 -->\n<g id=\"edge4\" class=\"edge\">\n<title>N2&#45;&gt;N3</title>\n<path fill=\"none\" stroke=\"black\" d=\"M927.25,-748.83C860.36,-736.38 752.29,-716.26 681.5,-703.08\"/>\n<polygon fill=\"black\" stroke=\"black\" points=\"681.81,-699.58 671.33,-701.19 680.52,-706.46 681.81,-699.58\"/>\n</g>\n<!-- N7 -->\n<g id=\"node8\" class=\"node\">\n<title>N7</title>\n<ellipse fill=\"none\" stroke=\"black\" cx=\"987.24\" cy=\"-689\" rx=\"81.49\" ry=\"18\"/>\n<text text-anchor=\"start\" x=\"932.74\" y=\"-685.3\" font-family=\"Times,serif\" font-size=\"14.00\">(&#39;&#39;, (&#39;crashme3&#39;, 13))</text>\n</g>\n<!-- N2&#45;&gt;N7 -->\n<g id=\"edge5\" class=\"edge\">\n<title>N2&#45;&gt;N7</title>\n<path fill=\"none\" stroke=\"black\" d=\"M987.24,-742.7C987.24,-734.98 987.24,-725.71 987.24,-717.11\"/>\n<polygon fill=\"black\" stroke=\"black\" points=\"990.74,-717.1 987.24,-707.1 983.74,-717.1 990.74,-717.1\"/>\n</g>\n<!-- N4 -->\n<g id=\"node5\" class=\"node\">\n<title>N4</title>\n<ellipse fill=\"none\" stroke=\"black\" cx=\"298.24\" cy=\"-617\" rx=\"81.49\" ry=\"18\"/>\n<text text-anchor=\"start\" x=\"243.74\" y=\"-613.3\" font-family=\"Times,serif\" font-size=\"14.00\">(&#39;&#39;, (&#39;crashme3&#39;, 16))</text>\n</g>\n<!-- N3&#45;&gt;N4 -->\n<g id=\"edge6\" class=\"edge\">\n<title>N3&#45;&gt;N4</title>\n<path fill=\"none\" stroke=\"black\" d=\"M556.36,-675.73C502.53,-663.69 420.43,-645.33 363.32,-632.56\"/>\n<polygon fill=\"black\" stroke=\"black\" points=\"363.84,-629.08 353.32,-630.32 362.32,-635.92 363.84,-629.08\"/>\n</g>\n<!-- N13 -->\n<g id=\"node14\" class=\"node\">\n<title>N13</title>\n<ellipse fill=\"none\" stroke=\"black\" cx=\"611.24\" cy=\"-617\" rx=\"81.49\" ry=\"18\"/>\n<text text-anchor=\"start\" x=\"556.74\" y=\"-613.3\" font-family=\"Times,serif\" font-size=\"14.00\">(&#39;&#39;, (&#39;crashme3&#39;, 15))</text>\n</g>\n<!-- N3&#45;&gt;N13 -->\n<g id=\"edge7\" class=\"edge\">\n<title>N3&#45;&gt;N13</title>\n<path fill=\"none\" stroke=\"black\" d=\"M611.24,-670.7C611.24,-662.98 611.24,-653.71 611.24,-645.11\"/>\n<polygon fill=\"black\" stroke=\"black\" points=\"614.74,-645.1 611.24,-635.1 607.74,-645.1 614.74,-645.1\"/>\n</g>\n<!-- N5 -->\n<g id=\"node6\" class=\"node\">\n<title>N5</title>\n<ellipse fill=\"none\" stroke=\"black\" cx=\"81.24\" cy=\"-473\" rx=\"81.49\" ry=\"18\"/>\n<text text-anchor=\"start\" x=\"26.74\" y=\"-469.3\" font-family=\"Times,serif\" font-size=\"14.00\">(&#39;&#39;, (&#39;crashme3&#39;, 19))</text>\n</g>\n<!-- N4&#45;&gt;N5 -->\n<g id=\"edge8\" class=\"edge\">\n<title>N4&#45;&gt;N5</title>\n<path fill=\"none\" stroke=\"black\" d=\"M269.92,-600.09C252.02,-589.85 228.52,-576.05 208.24,-563 174.68,-541.4 137.4,-514.98 111.96,-496.55\"/>\n<polygon fill=\"black\" stroke=\"black\" points=\"113.96,-493.68 103.81,-490.63 109.85,-499.34 113.96,-493.68\"/>\n</g>\n<!-- N19 -->\n<g id=\"node20\" class=\"node\">\n<title>N19</title>\n<ellipse fill=\"none\" stroke=\"black\" cx=\"298.24\" cy=\"-545\" rx=\"81.49\" ry=\"18\"/>\n<text text-anchor=\"start\" x=\"243.74\" y=\"-541.3\" font-family=\"Times,serif\" font-size=\"14.00\">(&#39;&#39;, (&#39;crashme3&#39;, 17))</text>\n</g>\n<!-- N4&#45;&gt;N19 -->\n<g id=\"edge9\" class=\"edge\">\n<title>N4&#45;&gt;N19</title>\n<path fill=\"none\" stroke=\"black\" d=\"M298.24,-598.7C298.24,-590.98 298.24,-581.71 298.24,-573.11\"/>\n<polygon fill=\"black\" stroke=\"black\" points=\"301.74,-573.1 298.24,-563.1 294.74,-573.1 301.74,-573.1\"/>\n</g>\n<!-- N6 -->\n<g id=\"node7\" class=\"node\">\n<title>N6</title>\n<ellipse fill=\"none\" stroke=\"black\" cx=\"601.24\" cy=\"-113\" rx=\"77.19\" ry=\"18\"/>\n<text text-anchor=\"start\" x=\"549.74\" y=\"-109.3\" font-family=\"Times,serif\" font-size=\"14.00\">(&#39;&#39;, (&#39;__exit__&#39;, 83))</text>\n</g>\n<!-- N5&#45;&gt;N6 -->\n<g id=\"edge10\" class=\"edge\">\n<title>N5&#45;&gt;N6</title>\n<path fill=\"none\" stroke=\"black\" d=\"M81.24,-454.95C81.24,-428.29 81.24,-375.11 81.24,-330 81.24,-330 81.24,-330 81.24,-256 81.24,-211.06 92,-192.15 129.24,-167 190.08,-125.91 394.64,-116.34 513.55,-114.32\"/>\n<polygon fill=\"black\" stroke=\"black\" points=\"513.78,-117.82 523.72,-114.16 513.67,-110.82 513.78,-117.82\"/>\n</g>\n<!-- N&#45;1 -->\n<g id=\"node27\" class=\"node\">\n<title>N&#45;1</title>\n<ellipse fill=\"none\" stroke=\"black\" cx=\"601.24\" cy=\"-41\" rx=\"30.59\" ry=\"18\"/>\n<text text-anchor=\"start\" x=\"585.74\" y=\"-37.3\" font-family=\"Times,serif\" font-size=\"14.00\">EXIT</text>\n</g>\n<!-- N6&#45;&gt;N&#45;1 -->\n<g id=\"edge11\" class=\"edge\">\n<title>N6&#45;&gt;N&#45;1</title>\n<path fill=\"none\" stroke=\"black\" d=\"M601.24,-94.7C601.24,-86.98 601.24,-77.71 601.24,-69.11\"/>\n<polygon fill=\"black\" stroke=\"black\" points=\"604.74,-69.1 601.24,-59.1 597.74,-69.1 604.74,-69.1\"/>\n</g>\n<!-- N8 -->\n<g id=\"node9\" class=\"node\">\n<title>N8</title>\n<ellipse fill=\"none\" stroke=\"black\" cx=\"987.24\" cy=\"-473\" rx=\"117.78\" ry=\"18\"/>\n<text text-anchor=\"start\" x=\"904.74\" y=\"-469.3\" font-family=\"Times,serif\" font-size=\"14.00\">(&#39;crashme3:13&#39;, (&#39;crashme&#39;, 2))</text>\n</g>\n<!-- N7&#45;&gt;N8 -->\n<g id=\"edge12\" class=\"edge\">\n<title>N7&#45;&gt;N8</title>\n<path fill=\"none\" stroke=\"black\" d=\"M987.24,-670.85C987.24,-633.83 987.24,-546.18 987.24,-501.39\"/>\n<polygon fill=\"black\" stroke=\"black\" points=\"990.74,-501.23 987.24,-491.23 983.74,-501.23 990.74,-501.23\"/>\n</g>\n<!-- N8&#45;&gt;N6 -->\n<g id=\"edge14\" class=\"edge\">\n<title>N8&#45;&gt;N6</title>\n<path fill=\"none\" stroke=\"black\" d=\"M972.67,-454.91C964.93,-445.01 955.88,-431.97 950.24,-419 934.12,-381.9 931.24,-370.45 931.24,-330 931.24,-330 931.24,-330 931.24,-256 931.24,-215.55 941.43,-195 912.24,-167 880.69,-136.73 767.51,-123.6 686.8,-118.01\"/>\n<polygon fill=\"black\" stroke=\"black\" points=\"686.85,-114.5 676.64,-117.33 686.38,-121.49 686.85,-114.5\"/>\n</g>\n<!-- N9 -->\n<g id=\"node10\" class=\"node\">\n<title>N9</title>\n<ellipse fill=\"none\" stroke=\"black\" cx=\"1077.24\" cy=\"-401\" rx=\"117.78\" ry=\"18\"/>\n<text text-anchor=\"start\" x=\"994.74\" y=\"-397.3\" font-family=\"Times,serif\" font-size=\"14.00\">(&#39;crashme3:13&#39;, (&#39;crashme&#39;, 3))</text>\n</g>\n<!-- N8&#45;&gt;N9 -->\n<g id=\"edge13\" class=\"edge\">\n<title>N8&#45;&gt;N9</title>\n<path fill=\"none\" stroke=\"black\" d=\"M1009.03,-455.05C1020.64,-446.03 1035.08,-434.79 1047.69,-424.99\"/>\n<polygon fill=\"black\" stroke=\"black\" points=\"1049.91,-427.69 1055.66,-418.79 1045.61,-422.17 1049.91,-427.69\"/>\n</g>\n<!-- N9&#45;&gt;N6 -->\n<g id=\"edge16\" class=\"edge\">\n<title>N9&#45;&gt;N6</title>\n<path fill=\"none\" stroke=\"black\" d=\"M1035.77,-383.96C1018.7,-375.4 1000.18,-363.23 988.24,-347 939.51,-280.74 1005.73,-222.74 945.24,-167 908.71,-133.34 777.21,-121.05 687.8,-116.57\"/>\n<polygon fill=\"black\" stroke=\"black\" points=\"687.81,-113.07 677.66,-116.09 687.48,-120.06 687.81,-113.07\"/>\n</g>\n<!-- N10 -->\n<g id=\"node11\" class=\"node\">\n<title>N10</title>\n<ellipse fill=\"none\" stroke=\"black\" cx=\"1115.24\" cy=\"-329\" rx=\"117.78\" ry=\"18\"/>\n<text text-anchor=\"start\" x=\"1032.74\" y=\"-325.3\" font-family=\"Times,serif\" font-size=\"14.00\">(&#39;crashme3:13&#39;, (&#39;crashme&#39;, 4))</text>\n</g>\n<!-- N9&#45;&gt;N10 -->\n<g id=\"edge15\" class=\"edge\">\n<title>N9&#45;&gt;N10</title>\n<path fill=\"none\" stroke=\"black\" d=\"M1086.44,-383.05C1090.81,-375.01 1096.13,-365.2 1101.01,-356.23\"/>\n<polygon fill=\"black\" stroke=\"black\" points=\"1104.17,-357.73 1105.86,-347.28 1098.02,-354.39 1104.17,-357.73\"/>\n</g>\n<!-- N10&#45;&gt;N6 -->\n<g id=\"edge18\" class=\"edge\">\n<title>N10&#45;&gt;N6</title>\n<path fill=\"none\" stroke=\"black\" d=\"M1076.2,-311.8C1058.99,-303.03 1039.67,-290.73 1026.24,-275 992.71,-235.7 1023.9,-198.88 983.24,-167 938.71,-132.09 786.47,-120.17 688.15,-116.11\"/>\n<polygon fill=\"black\" stroke=\"black\" points=\"688.05,-112.6 677.92,-115.7 687.78,-119.6 688.05,-112.6\"/>\n</g>\n<!-- N11 -->\n<g id=\"node12\" class=\"node\">\n<title>N11</title>\n<ellipse fill=\"none\" stroke=\"black\" cx=\"1153.24\" cy=\"-257\" rx=\"117.78\" ry=\"18\"/>\n<text text-anchor=\"start\" x=\"1070.74\" y=\"-253.3\" font-family=\"Times,serif\" font-size=\"14.00\">(&#39;crashme3:13&#39;, (&#39;crashme&#39;, 5))</text>\n</g>\n<!-- N10&#45;&gt;N11 -->\n<g id=\"edge17\" class=\"edge\">\n<title>N10&#45;&gt;N11</title>\n<path fill=\"none\" stroke=\"black\" d=\"M1124.44,-311.05C1128.81,-303.01 1134.13,-293.2 1139.01,-284.23\"/>\n<polygon fill=\"black\" stroke=\"black\" points=\"1142.17,-285.73 1143.86,-275.28 1136.02,-282.39 1142.17,-285.73\"/>\n</g>\n<!-- N11&#45;&gt;N6 -->\n<g id=\"edge20\" class=\"edge\">\n<title>N11&#45;&gt;N6</title>\n<path fill=\"none\" stroke=\"black\" d=\"M1122.82,-239.49C1105.27,-229.57 1083.02,-216.32 1064.24,-203 1043.91,-188.58 1044.09,-176.96 1021.24,-167 962.81,-141.52 790.71,-126.23 685.83,-119.03\"/>\n<polygon fill=\"black\" stroke=\"black\" points=\"685.79,-115.52 675.58,-118.33 685.32,-122.5 685.79,-115.52\"/>\n</g>\n<!-- N12 -->\n<g id=\"node13\" class=\"node\">\n<title>N12</title>\n<ellipse fill=\"none\" stroke=\"black\" cx=\"1191.24\" cy=\"-185\" rx=\"117.78\" ry=\"18\"/>\n<text text-anchor=\"start\" x=\"1108.74\" y=\"-181.3\" font-family=\"Times,serif\" font-size=\"14.00\">(&#39;crashme3:13&#39;, (&#39;crashme&#39;, 6))</text>\n</g>\n<!-- N11&#45;&gt;N12 -->\n<g id=\"edge19\" class=\"edge\">\n<title>N11&#45;&gt;N12</title>\n<path fill=\"none\" stroke=\"black\" d=\"M1162.44,-239.05C1166.81,-231.01 1172.13,-221.2 1177.01,-212.23\"/>\n<polygon fill=\"black\" stroke=\"black\" points=\"1180.17,-213.73 1181.86,-203.28 1174.02,-210.39 1180.17,-213.73\"/>\n</g>\n<!-- N12&#45;&gt;N6 -->\n<g id=\"edge21\" class=\"edge\">\n<title>N12&#45;&gt;N6</title>\n<path fill=\"none\" stroke=\"black\" d=\"M1104.99,-172.73C1089.75,-170.78 1074.04,-168.81 1059.24,-167 925.99,-150.71 770.76,-133.02 679.54,-122.75\"/>\n<polygon fill=\"black\" stroke=\"black\" points=\"679.89,-119.27 669.56,-121.63 679.11,-126.22 679.89,-119.27\"/>\n</g>\n<!-- N14 -->\n<g id=\"node15\" class=\"node\">\n<title>N14</title>\n<ellipse fill=\"none\" stroke=\"black\" cx=\"611.24\" cy=\"-473\" rx=\"117.78\" ry=\"18\"/>\n<text text-anchor=\"start\" x=\"528.74\" y=\"-469.3\" font-family=\"Times,serif\" font-size=\"14.00\">(&#39;crashme3:15&#39;, (&#39;crashme&#39;, 2))</text>\n</g>\n<!-- N13&#45;&gt;N14 -->\n<g id=\"edge22\" class=\"edge\">\n<title>N13&#45;&gt;N14</title>\n<path fill=\"none\" stroke=\"black\" d=\"M611.24,-598.87C611.24,-574.67 611.24,-530.21 611.24,-501.39\"/>\n<polygon fill=\"black\" stroke=\"black\" points=\"614.74,-501.19 611.24,-491.19 607.74,-501.19 614.74,-501.19\"/>\n</g>\n<!-- N14&#45;&gt;N6 -->\n<g id=\"edge24\" class=\"edge\">\n<title>N14&#45;&gt;N6</title>\n<path fill=\"none\" stroke=\"black\" d=\"M581.88,-455.36C568.44,-446.29 553.48,-433.87 544.24,-419 522.9,-384.64 525.24,-370.45 525.24,-330 525.24,-330 525.24,-330 525.24,-256 525.24,-210.39 556.1,-165.25 578.49,-138.5\"/>\n<polygon fill=\"black\" stroke=\"black\" points=\"581.24,-140.67 585.13,-130.81 575.94,-136.09 581.24,-140.67\"/>\n</g>\n<!-- N15 -->\n<g id=\"node16\" class=\"node\">\n<title>N15</title>\n<ellipse fill=\"none\" stroke=\"black\" cx=\"671.24\" cy=\"-401\" rx=\"117.78\" ry=\"18\"/>\n<text text-anchor=\"start\" x=\"588.74\" y=\"-397.3\" font-family=\"Times,serif\" font-size=\"14.00\">(&#39;crashme3:15&#39;, (&#39;crashme&#39;, 3))</text>\n</g>\n<!-- N14&#45;&gt;N15 -->\n<g id=\"edge23\" class=\"edge\">\n<title>N14&#45;&gt;N15</title>\n<path fill=\"none\" stroke=\"black\" d=\"M625.77,-455.05C632.96,-446.67 641.78,-436.38 649.73,-427.1\"/>\n<polygon fill=\"black\" stroke=\"black\" points=\"652.58,-429.15 656.44,-419.28 647.27,-424.59 652.58,-429.15\"/>\n</g>\n<!-- N15&#45;&gt;N6 -->\n<g id=\"edge26\" class=\"edge\">\n<title>N15&#45;&gt;N6</title>\n<path fill=\"none\" stroke=\"black\" d=\"M626.02,-384.27C609.18,-375.96 591.84,-363.89 582.24,-347 544.58,-280.74 572.4,-186.31 589.9,-140.69\"/>\n<polygon fill=\"black\" stroke=\"black\" points=\"593.22,-141.8 593.66,-131.21 586.71,-139.22 593.22,-141.8\"/>\n</g>\n<!-- N16 -->\n<g id=\"node17\" class=\"node\">\n<title>N16</title>\n<ellipse fill=\"none\" stroke=\"black\" cx=\"709.24\" cy=\"-329\" rx=\"117.78\" ry=\"18\"/>\n<text text-anchor=\"start\" x=\"626.74\" y=\"-325.3\" font-family=\"Times,serif\" font-size=\"14.00\">(&#39;crashme3:15&#39;, (&#39;crashme&#39;, 4))</text>\n</g>\n<!-- N15&#45;&gt;N16 -->\n<g id=\"edge25\" class=\"edge\">\n<title>N15&#45;&gt;N16</title>\n<path fill=\"none\" stroke=\"black\" d=\"M680.44,-383.05C684.81,-375.01 690.13,-365.2 695.01,-356.23\"/>\n<polygon fill=\"black\" stroke=\"black\" points=\"698.17,-357.73 699.86,-347.28 692.02,-354.39 698.17,-357.73\"/>\n</g>\n<!-- N16&#45;&gt;N6 -->\n<g id=\"edge28\" class=\"edge\">\n<title>N16&#45;&gt;N6</title>\n<path fill=\"none\" stroke=\"black\" d=\"M665.92,-312.14C648.96,-303.71 631.01,-291.59 620.24,-275 593.84,-234.31 594.38,-175.43 597.55,-141.3\"/>\n<polygon fill=\"black\" stroke=\"black\" points=\"601.05,-141.46 598.64,-131.15 594.09,-140.71 601.05,-141.46\"/>\n</g>\n<!-- N17 -->\n<g id=\"node18\" class=\"node\">\n<title>N17</title>\n<ellipse fill=\"none\" stroke=\"black\" cx=\"747.24\" cy=\"-257\" rx=\"117.78\" ry=\"18\"/>\n<text text-anchor=\"start\" x=\"664.74\" y=\"-253.3\" font-family=\"Times,serif\" font-size=\"14.00\">(&#39;crashme3:15&#39;, (&#39;crashme&#39;, 5))</text>\n</g>\n<!-- N16&#45;&gt;N17 -->\n<g id=\"edge27\" class=\"edge\">\n<title>N16&#45;&gt;N17</title>\n<path fill=\"none\" stroke=\"black\" d=\"M718.44,-311.05C722.81,-303.01 728.13,-293.2 733.01,-284.23\"/>\n<polygon fill=\"black\" stroke=\"black\" points=\"736.17,-285.73 737.86,-275.28 730.02,-282.39 736.17,-285.73\"/>\n</g>\n<!-- N17&#45;&gt;N6 -->\n<g id=\"edge30\" class=\"edge\">\n<title>N17&#45;&gt;N6</title>\n<path fill=\"none\" stroke=\"black\" d=\"M711.7,-239.73C694.27,-230.59 673.75,-218.01 658.24,-203 639.41,-184.77 623.84,-159.17 613.77,-140.1\"/>\n<polygon fill=\"black\" stroke=\"black\" points=\"616.81,-138.37 609.14,-131.06 610.58,-141.56 616.81,-138.37\"/>\n</g>\n<!-- N18 -->\n<g id=\"node19\" class=\"node\">\n<title>N18</title>\n<ellipse fill=\"none\" stroke=\"black\" cx=\"785.24\" cy=\"-185\" rx=\"117.78\" ry=\"18\"/>\n<text text-anchor=\"start\" x=\"702.74\" y=\"-181.3\" font-family=\"Times,serif\" font-size=\"14.00\">(&#39;crashme3:15&#39;, (&#39;crashme&#39;, 6))</text>\n</g>\n<!-- N17&#45;&gt;N18 -->\n<g id=\"edge29\" class=\"edge\">\n<title>N17&#45;&gt;N18</title>\n<path fill=\"none\" stroke=\"black\" d=\"M756.44,-239.05C760.81,-231.01 766.13,-221.2 771.01,-212.23\"/>\n<polygon fill=\"black\" stroke=\"black\" points=\"774.17,-213.73 775.86,-203.28 768.02,-210.39 774.17,-213.73\"/>\n</g>\n<!-- N18&#45;&gt;N6 -->\n<g id=\"edge31\" class=\"edge\">\n<title>N18&#45;&gt;N6</title>\n<path fill=\"none\" stroke=\"black\" d=\"M743.49,-168.12C715.48,-157.46 678.51,-143.4 649.28,-132.28\"/>\n<polygon fill=\"black\" stroke=\"black\" points=\"650.28,-128.91 639.69,-128.63 647.79,-135.45 650.28,-128.91\"/>\n</g>\n<!-- N20 -->\n<g id=\"node21\" class=\"node\">\n<title>N20</title>\n<ellipse fill=\"none\" stroke=\"black\" cx=\"298.24\" cy=\"-473\" rx=\"117.78\" ry=\"18\"/>\n<text text-anchor=\"start\" x=\"215.74\" y=\"-469.3\" font-family=\"Times,serif\" font-size=\"14.00\">(&#39;crashme3:17&#39;, (&#39;crashme&#39;, 2))</text>\n</g>\n<!-- N19&#45;&gt;N20 -->\n<g id=\"edge32\" class=\"edge\">\n<title>N19&#45;&gt;N20</title>\n<path fill=\"none\" stroke=\"black\" d=\"M298.24,-526.7C298.24,-518.98 298.24,-509.71 298.24,-501.11\"/>\n<polygon fill=\"black\" stroke=\"black\" points=\"301.74,-501.1 298.24,-491.1 294.74,-501.1 301.74,-501.1\"/>\n</g>\n<!-- N20&#45;&gt;N6 -->\n<g id=\"edge34\" class=\"edge\">\n<title>N20&#45;&gt;N6</title>\n<path fill=\"none\" stroke=\"black\" d=\"M241.7,-457.17C217.97,-448.85 191.29,-436.54 171.24,-419 136.76,-388.84 119.24,-375.81 119.24,-330 119.24,-330 119.24,-330 119.24,-256 119.24,-209.96 133.69,-192.16 172.24,-167 226.88,-131.33 405.23,-119.67 514.02,-115.85\"/>\n<polygon fill=\"black\" stroke=\"black\" points=\"514.44,-119.34 524.32,-115.51 514.21,-112.34 514.44,-119.34\"/>\n</g>\n<!-- N21 -->\n<g id=\"node22\" class=\"node\">\n<title>N21</title>\n<ellipse fill=\"none\" stroke=\"black\" cx=\"298.24\" cy=\"-401\" rx=\"117.78\" ry=\"18\"/>\n<text text-anchor=\"start\" x=\"215.74\" y=\"-397.3\" font-family=\"Times,serif\" font-size=\"14.00\">(&#39;crashme3:17&#39;, (&#39;crashme&#39;, 3))</text>\n</g>\n<!-- N20&#45;&gt;N21 -->\n<g id=\"edge33\" class=\"edge\">\n<title>N20&#45;&gt;N21</title>\n<path fill=\"none\" stroke=\"black\" d=\"M298.24,-454.7C298.24,-446.98 298.24,-437.71 298.24,-429.11\"/>\n<polygon fill=\"black\" stroke=\"black\" points=\"301.74,-429.1 298.24,-419.1 294.74,-429.1 301.74,-429.1\"/>\n</g>\n<!-- N21&#45;&gt;N6 -->\n<g id=\"edge36\" class=\"edge\">\n<title>N21&#45;&gt;N6</title>\n<path fill=\"none\" stroke=\"black\" d=\"M231.01,-386.22C209.87,-378.37 188.78,-366.12 176.24,-347 146.51,-301.67 130.3,-238.14 207.24,-167 250.52,-126.98 411.46,-116.77 513.77,-114.41\"/>\n<polygon fill=\"black\" stroke=\"black\" points=\"513.87,-117.91 523.79,-114.2 513.72,-110.91 513.87,-117.91\"/>\n</g>\n<!-- N22 -->\n<g id=\"node23\" class=\"node\">\n<title>N22</title>\n<ellipse fill=\"none\" stroke=\"black\" cx=\"303.24\" cy=\"-329\" rx=\"117.78\" ry=\"18\"/>\n<text text-anchor=\"start\" x=\"220.74\" y=\"-325.3\" font-family=\"Times,serif\" font-size=\"14.00\">(&#39;crashme3:17&#39;, (&#39;crashme&#39;, 4))</text>\n</g>\n<!-- N21&#45;&gt;N22 -->\n<g id=\"edge35\" class=\"edge\">\n<title>N21&#45;&gt;N22</title>\n<path fill=\"none\" stroke=\"black\" d=\"M299.48,-382.7C300.03,-374.98 300.69,-365.71 301.31,-357.11\"/>\n<polygon fill=\"black\" stroke=\"black\" points=\"304.8,-357.33 302.02,-347.1 297.82,-356.83 304.8,-357.33\"/>\n</g>\n<!-- N22&#45;&gt;N6 -->\n<g id=\"edge38\" class=\"edge\">\n<title>N22&#45;&gt;N6</title>\n<path fill=\"none\" stroke=\"black\" d=\"M258.02,-312.27C241.18,-303.96 223.84,-291.89 214.24,-275 189.74,-231.89 203.48,-197.92 242.24,-167 283.19,-134.34 422.38,-121.75 514.93,-116.93\"/>\n<polygon fill=\"black\" stroke=\"black\" points=\"515.32,-120.42 525.14,-116.42 514.97,-113.43 515.32,-120.42\"/>\n</g>\n<!-- N23 -->\n<g id=\"node24\" class=\"node\">\n<title>N23</title>\n<ellipse fill=\"none\" stroke=\"black\" cx=\"341.24\" cy=\"-257\" rx=\"117.78\" ry=\"18\"/>\n<text text-anchor=\"start\" x=\"258.74\" y=\"-253.3\" font-family=\"Times,serif\" font-size=\"14.00\">(&#39;crashme3:17&#39;, (&#39;crashme&#39;, 5))</text>\n</g>\n<!-- N22&#45;&gt;N23 -->\n<g id=\"edge37\" class=\"edge\">\n<title>N22&#45;&gt;N23</title>\n<path fill=\"none\" stroke=\"black\" d=\"M312.44,-311.05C316.81,-303.01 322.13,-293.2 327.01,-284.23\"/>\n<polygon fill=\"black\" stroke=\"black\" points=\"330.17,-285.73 331.86,-275.28 324.02,-282.39 330.17,-285.73\"/>\n</g>\n<!-- N23&#45;&gt;N6 -->\n<g id=\"edge40\" class=\"edge\">\n<title>N23&#45;&gt;N6</title>\n<path fill=\"none\" stroke=\"black\" d=\"M296.02,-240.27C279.18,-231.96 261.84,-219.89 252.24,-203 244.34,-189.09 241.81,-179.13 252.24,-167 285.31,-128.53 421.55,-117.65 513.7,-114.77\"/>\n<polygon fill=\"black\" stroke=\"black\" points=\"513.98,-118.26 523.87,-114.47 513.77,-111.26 513.98,-118.26\"/>\n</g>\n<!-- N24 -->\n<g id=\"node25\" class=\"node\">\n<title>N24</title>\n<ellipse fill=\"none\" stroke=\"black\" cx=\"379.24\" cy=\"-185\" rx=\"117.78\" ry=\"18\"/>\n<text text-anchor=\"start\" x=\"296.74\" y=\"-181.3\" font-family=\"Times,serif\" font-size=\"14.00\">(&#39;crashme3:17&#39;, (&#39;crashme&#39;, 6))</text>\n</g>\n<!-- N23&#45;&gt;N24 -->\n<g id=\"edge39\" class=\"edge\">\n<title>N23&#45;&gt;N24</title>\n<path fill=\"none\" stroke=\"black\" d=\"M350.44,-239.05C354.81,-231.01 360.13,-221.2 365.01,-212.23\"/>\n<polygon fill=\"black\" stroke=\"black\" points=\"368.17,-213.73 369.86,-203.28 362.02,-210.39 368.17,-213.73\"/>\n</g>\n<!-- N24&#45;&gt;N6 -->\n<g id=\"edge41\" class=\"edge\">\n<title>N24&#45;&gt;N6</title>\n<path fill=\"none\" stroke=\"black\" d=\"M428.24,-168.55C463.48,-157.44 511.02,-142.45 547.34,-131\"/>\n<polygon fill=\"black\" stroke=\"black\" points=\"548.78,-134.21 557.27,-127.87 546.68,-127.54 548.78,-134.21\"/>\n</g>\n<!-- N25&#45;&gt;N6 -->\n<g id=\"edge42\" class=\"edge\">\n<title>N25&#45;&gt;N6</title>\n<path fill=\"none\" stroke=\"black\" d=\"M1292.05,-670.96C1308.75,-645.16 1337.24,-594.08 1337.24,-546 1337.24,-546 1337.24,-546 1337.24,-256 1337.24,-215.55 1348.73,-193.58 1318.24,-167 1271.73,-126.44 869.2,-116.92 688.46,-114.68\"/>\n<polygon fill=\"black\" stroke=\"black\" points=\"688.49,-111.18 678.45,-114.56 688.41,-118.18 688.49,-111.18\"/>\n</g>\n</g>\n</svg>\n",
      "text/plain": [
       "<graphviz.graphs.Digraph at 0x103ae7190>"
      ]
     },
     "metadata": {},
     "output_type": "display_data"
    },
    {
     "data": {
      "image/svg+xml": "<?xml version=\"1.0\" encoding=\"UTF-8\" standalone=\"no\"?>\n<!DOCTYPE svg PUBLIC \"-//W3C//DTD SVG 1.1//EN\"\n \"http://www.w3.org/Graphics/SVG/1.1/DTD/svg11.dtd\">\n<!-- Generated by graphviz version 5.0.1 (20220820.1526)\n -->\n<!-- Pages: 1 -->\n<svg width=\"525pt\" height=\"931pt\"\n viewBox=\"0.00 0.00 525.19 931.00\" xmlns=\"http://www.w3.org/2000/svg\" xmlns:xlink=\"http://www.w3.org/1999/xlink\">\n<g id=\"graph0\" class=\"graph\" transform=\"scale(1 1) rotate(0) translate(4 927)\">\n<polygon fill=\"white\" stroke=\"none\" points=\"-4,4 -4,-927 521.19,-927 521.19,4 -4,4\"/>\n<text text-anchor=\"middle\" x=\"258.59\" y=\"-7.8\" font-family=\"Times,serif\" font-size=\"14.00\">context&#45;insensitive execution path graph</text>\n<!-- N0 -->\n<g id=\"node1\" class=\"node\">\n<title>N0</title>\n<ellipse fill=\"none\" stroke=\"black\" cx=\"401.59\" cy=\"-905\" rx=\"39.79\" ry=\"18\"/>\n<text text-anchor=\"start\" x=\"379.09\" y=\"-901.3\" font-family=\"Times,serif\" font-size=\"14.00\">ENTRY</text>\n</g>\n<!-- N1 -->\n<g id=\"node2\" class=\"node\">\n<title>N1</title>\n<ellipse fill=\"none\" stroke=\"black\" cx=\"401.59\" cy=\"-833\" rx=\"67.69\" ry=\"18\"/>\n<text text-anchor=\"start\" x=\"357.59\" y=\"-829.3\" font-family=\"Times,serif\" font-size=\"14.00\">(&#39;crashme3&#39;, 10)</text>\n</g>\n<!-- N0&#45;&gt;N1 -->\n<g id=\"edge1\" class=\"edge\">\n<title>N0&#45;&gt;N1</title>\n<path fill=\"none\" stroke=\"black\" d=\"M401.59,-886.7C401.59,-878.98 401.59,-869.71 401.59,-861.11\"/>\n<polygon fill=\"black\" stroke=\"black\" points=\"405.09,-861.1 401.59,-851.1 398.09,-861.1 405.09,-861.1\"/>\n</g>\n<!-- N2 -->\n<g id=\"node3\" class=\"node\">\n<title>N2</title>\n<ellipse fill=\"none\" stroke=\"black\" cx=\"353.59\" cy=\"-761\" rx=\"67.69\" ry=\"18\"/>\n<text text-anchor=\"start\" x=\"309.59\" y=\"-757.3\" font-family=\"Times,serif\" font-size=\"14.00\">(&#39;crashme3&#39;, 12)</text>\n</g>\n<!-- N1&#45;&gt;N2 -->\n<g id=\"edge2\" class=\"edge\">\n<title>N1&#45;&gt;N2</title>\n<path fill=\"none\" stroke=\"black\" d=\"M389.97,-815.05C384.26,-806.71 377.24,-796.49 370.91,-787.25\"/>\n<polygon fill=\"black\" stroke=\"black\" points=\"373.65,-785.06 365.11,-778.79 367.88,-789.02 373.65,-785.06\"/>\n</g>\n<!-- N15 -->\n<g id=\"node16\" class=\"node\">\n<title>N15</title>\n<ellipse fill=\"none\" stroke=\"black\" cx=\"449.59\" cy=\"-473\" rx=\"67.69\" ry=\"18\"/>\n<text text-anchor=\"start\" x=\"405.59\" y=\"-469.3\" font-family=\"Times,serif\" font-size=\"14.00\">(&#39;crashme3&#39;, 11)</text>\n</g>\n<!-- N1&#45;&gt;N15 -->\n<g id=\"edge3\" class=\"edge\">\n<title>N1&#45;&gt;N15</title>\n<path fill=\"none\" stroke=\"black\" d=\"M412.59,-814.94C418.67,-804.84 425.92,-791.59 430.59,-779 444.67,-741.08 449.59,-730.45 449.59,-690 449.59,-690 449.59,-690 449.59,-616 449.59,-576 449.59,-529.65 449.59,-501.08\"/>\n<polygon fill=\"black\" stroke=\"black\" points=\"453.09,-501.05 449.59,-491.05 446.09,-501.05 453.09,-501.05\"/>\n</g>\n<!-- N3 -->\n<g id=\"node4\" class=\"node\">\n<title>N3</title>\n<ellipse fill=\"none\" stroke=\"black\" cx=\"200.59\" cy=\"-689\" rx=\"67.69\" ry=\"18\"/>\n<text text-anchor=\"start\" x=\"156.59\" y=\"-685.3\" font-family=\"Times,serif\" font-size=\"14.00\">(&#39;crashme3&#39;, 14)</text>\n</g>\n<!-- N2&#45;&gt;N3 -->\n<g id=\"edge4\" class=\"edge\">\n<title>N2&#45;&gt;N3</title>\n<path fill=\"none\" stroke=\"black\" d=\"M321.15,-745.15C298.12,-734.62 267.02,-720.39 242.18,-709.03\"/>\n<polygon fill=\"black\" stroke=\"black\" points=\"243.54,-705.8 232.99,-704.82 240.63,-712.17 243.54,-705.8\"/>\n</g>\n<!-- N7 -->\n<g id=\"node8\" class=\"node\">\n<title>N7</title>\n<ellipse fill=\"none\" stroke=\"black\" cx=\"353.59\" cy=\"-689\" rx=\"67.69\" ry=\"18\"/>\n<text text-anchor=\"start\" x=\"309.59\" y=\"-685.3\" font-family=\"Times,serif\" font-size=\"14.00\">(&#39;crashme3&#39;, 13)</text>\n</g>\n<!-- N2&#45;&gt;N7 -->\n<g id=\"edge5\" class=\"edge\">\n<title>N2&#45;&gt;N7</title>\n<path fill=\"none\" stroke=\"black\" d=\"M353.59,-742.7C353.59,-734.98 353.59,-725.71 353.59,-717.11\"/>\n<polygon fill=\"black\" stroke=\"black\" points=\"357.09,-717.1 353.59,-707.1 350.09,-717.1 357.09,-717.1\"/>\n</g>\n<!-- N4 -->\n<g id=\"node5\" class=\"node\">\n<title>N4</title>\n<ellipse fill=\"none\" stroke=\"black\" cx=\"104.59\" cy=\"-617\" rx=\"67.69\" ry=\"18\"/>\n<text text-anchor=\"start\" x=\"60.59\" y=\"-613.3\" font-family=\"Times,serif\" font-size=\"14.00\">(&#39;crashme3&#39;, 16)</text>\n</g>\n<!-- N3&#45;&gt;N4 -->\n<g id=\"edge6\" class=\"edge\">\n<title>N3&#45;&gt;N4</title>\n<path fill=\"none\" stroke=\"black\" d=\"M178.33,-671.76C165.48,-662.4 149.15,-650.49 135.12,-640.26\"/>\n<polygon fill=\"black\" stroke=\"black\" points=\"136.88,-637.21 126.74,-634.15 132.76,-642.87 136.88,-637.21\"/>\n</g>\n<!-- N13 -->\n<g id=\"node14\" class=\"node\">\n<title>N13</title>\n<ellipse fill=\"none\" stroke=\"black\" cx=\"257.59\" cy=\"-617\" rx=\"67.69\" ry=\"18\"/>\n<text text-anchor=\"start\" x=\"213.59\" y=\"-613.3\" font-family=\"Times,serif\" font-size=\"14.00\">(&#39;crashme3&#39;, 15)</text>\n</g>\n<!-- N3&#45;&gt;N13 -->\n<g id=\"edge7\" class=\"edge\">\n<title>N3&#45;&gt;N13</title>\n<path fill=\"none\" stroke=\"black\" d=\"M214.39,-671.05C221.32,-662.54 229.85,-652.07 237.5,-642.68\"/>\n<polygon fill=\"black\" stroke=\"black\" points=\"240.32,-644.75 243.92,-634.79 234.89,-640.33 240.32,-644.75\"/>\n</g>\n<!-- N5 -->\n<g id=\"node6\" class=\"node\">\n<title>N5</title>\n<ellipse fill=\"none\" stroke=\"black\" cx=\"67.59\" cy=\"-401\" rx=\"67.69\" ry=\"18\"/>\n<text text-anchor=\"start\" x=\"23.59\" y=\"-397.3\" font-family=\"Times,serif\" font-size=\"14.00\">(&#39;crashme3&#39;, 19)</text>\n</g>\n<!-- N4&#45;&gt;N5 -->\n<g id=\"edge8\" class=\"edge\">\n<title>N4&#45;&gt;N5</title>\n<path fill=\"none\" stroke=\"black\" d=\"M97.21,-598.64C93.17,-588.44 88.42,-575.19 85.59,-563 74.87,-516.72 70.46,-461.42 68.7,-429.16\"/>\n<polygon fill=\"black\" stroke=\"black\" points=\"72.2,-428.95 68.2,-419.14 65.2,-429.3 72.2,-428.95\"/>\n</g>\n<!-- N14 -->\n<g id=\"node15\" class=\"node\">\n<title>N14</title>\n<ellipse fill=\"none\" stroke=\"black\" cx=\"162.59\" cy=\"-545\" rx=\"67.69\" ry=\"18\"/>\n<text text-anchor=\"start\" x=\"118.59\" y=\"-541.3\" font-family=\"Times,serif\" font-size=\"14.00\">(&#39;crashme3&#39;, 17)</text>\n</g>\n<!-- N4&#45;&gt;N14 -->\n<g id=\"edge9\" class=\"edge\">\n<title>N4&#45;&gt;N14</title>\n<path fill=\"none\" stroke=\"black\" d=\"M118.63,-599.05C125.69,-590.54 134.37,-580.07 142.14,-570.68\"/>\n<polygon fill=\"black\" stroke=\"black\" points=\"145,-572.72 148.68,-562.79 139.61,-568.26 145,-572.72\"/>\n</g>\n<!-- N6 -->\n<g id=\"node7\" class=\"node\">\n<title>N6</title>\n<ellipse fill=\"none\" stroke=\"black\" cx=\"239.59\" cy=\"-113\" rx=\"63.89\" ry=\"18\"/>\n<text text-anchor=\"start\" x=\"198.59\" y=\"-109.3\" font-family=\"Times,serif\" font-size=\"14.00\">(&#39;__exit__&#39;, 83)</text>\n</g>\n<!-- N5&#45;&gt;N6 -->\n<g id=\"edge10\" class=\"edge\">\n<title>N5&#45;&gt;N6</title>\n<path fill=\"none\" stroke=\"black\" d=\"M69.57,-382.82C75.13,-341.34 94.28,-234.22 149.59,-167 161.44,-152.6 178.29,-141.22 194.21,-132.75\"/>\n<polygon fill=\"black\" stroke=\"black\" points=\"196.08,-135.73 203.43,-128.11 192.93,-129.48 196.08,-135.73\"/>\n</g>\n<!-- N&#45;1 -->\n<g id=\"node17\" class=\"node\">\n<title>N&#45;1</title>\n<ellipse fill=\"none\" stroke=\"black\" cx=\"239.59\" cy=\"-41\" rx=\"30.59\" ry=\"18\"/>\n<text text-anchor=\"start\" x=\"224.09\" y=\"-37.3\" font-family=\"Times,serif\" font-size=\"14.00\">EXIT</text>\n</g>\n<!-- N6&#45;&gt;N&#45;1 -->\n<g id=\"edge11\" class=\"edge\">\n<title>N6&#45;&gt;N&#45;1</title>\n<path fill=\"none\" stroke=\"black\" d=\"M239.59,-94.7C239.59,-86.98 239.59,-77.71 239.59,-69.11\"/>\n<polygon fill=\"black\" stroke=\"black\" points=\"243.09,-69.1 239.59,-59.1 236.09,-69.1 243.09,-69.1\"/>\n</g>\n<!-- N8 -->\n<g id=\"node9\" class=\"node\">\n<title>N8</title>\n<ellipse fill=\"none\" stroke=\"black\" cx=\"254.59\" cy=\"-473\" rx=\"58.49\" ry=\"18\"/>\n<text text-anchor=\"start\" x=\"217.59\" y=\"-469.3\" font-family=\"Times,serif\" font-size=\"14.00\">(&#39;crashme&#39;, 2)</text>\n</g>\n<!-- N7&#45;&gt;N8 -->\n<g id=\"edge12\" class=\"edge\">\n<title>N7&#45;&gt;N8</title>\n<path fill=\"none\" stroke=\"black\" d=\"M351.77,-670.73C349.41,-652.39 344.38,-622.82 334.59,-599 319.25,-561.64 292.7,-523.17 274.42,-498.95\"/>\n<polygon fill=\"black\" stroke=\"black\" points=\"276.96,-496.51 268.1,-490.7 271.41,-500.77 276.96,-496.51\"/>\n</g>\n<!-- N8&#45;&gt;N6 -->\n<g id=\"edge14\" class=\"edge\">\n<title>N8&#45;&gt;N6</title>\n<path fill=\"none\" stroke=\"black\" d=\"M227.93,-456.73C214.01,-447.48 197.79,-434.48 187.59,-419 165.06,-384.79 163.59,-370.97 163.59,-330 163.59,-330 163.59,-330 163.59,-256 163.59,-210.39 194.45,-165.25 216.84,-138.5\"/>\n<polygon fill=\"black\" stroke=\"black\" points=\"219.6,-140.67 223.48,-130.81 214.29,-136.09 219.6,-140.67\"/>\n</g>\n<!-- N9 -->\n<g id=\"node10\" class=\"node\">\n<title>N9</title>\n<ellipse fill=\"none\" stroke=\"black\" cx=\"254.59\" cy=\"-401\" rx=\"58.49\" ry=\"18\"/>\n<text text-anchor=\"start\" x=\"217.59\" y=\"-397.3\" font-family=\"Times,serif\" font-size=\"14.00\">(&#39;crashme&#39;, 3)</text>\n</g>\n<!-- N8&#45;&gt;N9 -->\n<g id=\"edge13\" class=\"edge\">\n<title>N8&#45;&gt;N9</title>\n<path fill=\"none\" stroke=\"black\" d=\"M254.59,-454.7C254.59,-446.98 254.59,-437.71 254.59,-429.11\"/>\n<polygon fill=\"black\" stroke=\"black\" points=\"258.09,-429.1 254.59,-419.1 251.09,-429.1 258.09,-429.1\"/>\n</g>\n<!-- N9&#45;&gt;N6 -->\n<g id=\"edge16\" class=\"edge\">\n<title>N9&#45;&gt;N6</title>\n<path fill=\"none\" stroke=\"black\" d=\"M240.19,-383.1C232.77,-373.26 224.47,-360.22 220.59,-347 199.4,-274.71 218.93,-184.75 231.27,-140.76\"/>\n<polygon fill=\"black\" stroke=\"black\" points=\"234.65,-141.67 234.07,-131.09 227.93,-139.72 234.65,-141.67\"/>\n</g>\n<!-- N10 -->\n<g id=\"node11\" class=\"node\">\n<title>N10</title>\n<ellipse fill=\"none\" stroke=\"black\" cx=\"287.59\" cy=\"-329\" rx=\"58.49\" ry=\"18\"/>\n<text text-anchor=\"start\" x=\"250.59\" y=\"-325.3\" font-family=\"Times,serif\" font-size=\"14.00\">(&#39;crashme&#39;, 4)</text>\n</g>\n<!-- N9&#45;&gt;N10 -->\n<g id=\"edge15\" class=\"edge\">\n<title>N9&#45;&gt;N10</title>\n<path fill=\"none\" stroke=\"black\" d=\"M262.58,-383.05C266.34,-375.09 270.9,-365.41 275.1,-356.51\"/>\n<polygon fill=\"black\" stroke=\"black\" points=\"278.35,-357.81 279.45,-347.28 272.02,-354.83 278.35,-357.81\"/>\n</g>\n<!-- N10&#45;&gt;N6 -->\n<g id=\"edge18\" class=\"edge\">\n<title>N10&#45;&gt;N6</title>\n<path fill=\"none\" stroke=\"black\" d=\"M276.16,-311.09C269.93,-301.04 262.68,-287.79 258.59,-275 244.13,-229.71 240.48,-174.1 239.67,-141.5\"/>\n<polygon fill=\"black\" stroke=\"black\" points=\"243.17,-141.31 239.5,-131.37 236.17,-141.43 243.17,-141.31\"/>\n</g>\n<!-- N11 -->\n<g id=\"node12\" class=\"node\">\n<title>N11</title>\n<ellipse fill=\"none\" stroke=\"black\" cx=\"325.59\" cy=\"-257\" rx=\"58.49\" ry=\"18\"/>\n<text text-anchor=\"start\" x=\"288.59\" y=\"-253.3\" font-family=\"Times,serif\" font-size=\"14.00\">(&#39;crashme&#39;, 5)</text>\n</g>\n<!-- N10&#45;&gt;N11 -->\n<g id=\"edge17\" class=\"edge\">\n<title>N10&#45;&gt;N11</title>\n<path fill=\"none\" stroke=\"black\" d=\"M296.79,-311.05C301.23,-302.89 306.64,-292.91 311.58,-283.82\"/>\n<polygon fill=\"black\" stroke=\"black\" points=\"314.78,-285.25 316.48,-274.79 308.63,-281.91 314.78,-285.25\"/>\n</g>\n<!-- N11&#45;&gt;N6 -->\n<g id=\"edge20\" class=\"edge\">\n<title>N11&#45;&gt;N6</title>\n<path fill=\"none\" stroke=\"black\" d=\"M315.39,-239.15C300.46,-214.49 272.52,-168.37 255.06,-139.53\"/>\n<polygon fill=\"black\" stroke=\"black\" points=\"257.96,-137.57 249.78,-130.82 251.97,-141.19 257.96,-137.57\"/>\n</g>\n<!-- N12 -->\n<g id=\"node13\" class=\"node\">\n<title>N12</title>\n<ellipse fill=\"none\" stroke=\"black\" cx=\"363.59\" cy=\"-185\" rx=\"58.49\" ry=\"18\"/>\n<text text-anchor=\"start\" x=\"326.59\" y=\"-181.3\" font-family=\"Times,serif\" font-size=\"14.00\">(&#39;crashme&#39;, 6)</text>\n</g>\n<!-- N11&#45;&gt;N12 -->\n<g id=\"edge19\" class=\"edge\">\n<title>N11&#45;&gt;N12</title>\n<path fill=\"none\" stroke=\"black\" d=\"M334.79,-239.05C339.23,-230.89 344.64,-220.91 349.58,-211.82\"/>\n<polygon fill=\"black\" stroke=\"black\" points=\"352.78,-213.25 354.48,-202.79 346.63,-209.91 352.78,-213.25\"/>\n</g>\n<!-- N12&#45;&gt;N6 -->\n<g id=\"edge21\" class=\"edge\">\n<title>N12&#45;&gt;N6</title>\n<path fill=\"none\" stroke=\"black\" d=\"M336.69,-168.81C318.86,-158.74 295.25,-145.42 275.78,-134.43\"/>\n<polygon fill=\"black\" stroke=\"black\" points=\"277.3,-131.27 266.88,-129.4 273.86,-137.36 277.3,-131.27\"/>\n</g>\n<!-- N13&#45;&gt;N8 -->\n<g id=\"edge22\" class=\"edge\">\n<title>N13&#45;&gt;N8</title>\n<path fill=\"none\" stroke=\"black\" d=\"M257.23,-598.87C256.72,-574.67 255.78,-530.21 255.17,-501.39\"/>\n<polygon fill=\"black\" stroke=\"black\" points=\"258.67,-501.11 254.96,-491.19 251.67,-501.26 258.67,-501.11\"/>\n</g>\n<!-- N14&#45;&gt;N8 -->\n<g id=\"edge23\" class=\"edge\">\n<title>N14&#45;&gt;N8</title>\n<path fill=\"none\" stroke=\"black\" d=\"M183.93,-527.76C196.33,-518.33 212.12,-506.32 225.62,-496.04\"/>\n<polygon fill=\"black\" stroke=\"black\" points=\"227.85,-498.75 233.69,-489.91 223.61,-493.18 227.85,-498.75\"/>\n</g>\n<!-- N15&#45;&gt;N6 -->\n<g id=\"edge24\" class=\"edge\">\n<title>N15&#45;&gt;N6</title>\n<path fill=\"none\" stroke=\"black\" d=\"M449.59,-454.95C449.59,-428.29 449.59,-375.11 449.59,-330 449.59,-330 449.59,-330 449.59,-256 449.59,-215.55 458.32,-196.45 430.59,-167 400.59,-135.12 353.23,-121.84 313.19,-116.54\"/>\n<polygon fill=\"black\" stroke=\"black\" points=\"313.52,-113.06 303.18,-115.36 312.7,-120.01 313.52,-113.06\"/>\n</g>\n</g>\n</svg>\n",
      "text/plain": [
       "<graphviz.graphs.Digraph at 0x103ae4280>"
      ]
     },
     "metadata": {},
     "output_type": "display_data"
    }
   ],
   "source": [
    "from graph import Graph\n",
    "\n",
    "contcov_graph = Graph()\n",
    "coverage_graph = Graph()\n",
    "for path, inputs in record.items():\n",
    "    contcov_graph.accept(path)\n",
    "    coverage_list = [contcov[1] for contcov in path]\n",
    "    coverage_graph.accept(coverage_list)\n",
    "display(contcov_graph.print_graph(\"context-sensitive execution path graph\"))\n",
    "display(coverage_graph.print_graph(\"context-insensitive execution path graph\"))\n"
   ]
  },
  {
   "attachments": {},
   "cell_type": "markdown",
   "metadata": {},
   "source": [
    "# Stage 1. Model the relative input range of the callee function regarding the input of the caller function"
   ]
  },
  {
   "attachments": {},
   "cell_type": "markdown",
   "metadata": {},
   "source": [
    "### Identify the branch can the call position from the control-flow graph"
   ]
  },
  {
   "cell_type": "code",
   "execution_count": 6,
   "metadata": {},
   "outputs": [
    {
     "name": "stdout",
     "output_type": "stream",
     "text": [
      "branches: [<('crashme3', 10)>, <('crashme3', 12)>, <('crashme3', 14)>, <('crashme3', 16)>, <('crashme', 2)>, <('crashme', 3)>, <('crashme', 4)>, <('crashme', 5)>]\n",
      "call contexts: {'crashme3:17', 'crashme3:15', 'crashme3:13'}\n"
     ]
    }
   ],
   "source": [
    "from ControlFlowModel import ControlFlowModel\n",
    "\n",
    "CFM = ControlFlowModel(record, contcov_graph, coverage_graph, runner)\n",
    "CFM.identify_branch()\n",
    "CFM.identify_call_context()"
   ]
  },
  {
   "attachments": {},
   "cell_type": "markdown",
   "metadata": {},
   "source": [
    "### Compute the relative input range of the callee function regarding the input of the caller function using the linear programming\n",
    "\n",
    "Key idea is as follows:\n",
    "\n",
    "Let's say the absolute input byte array used in the caller function g is [a, b). \n",
    "\n",
    "If the callee function f uses the input range of [fmin, fmax) relative to the input of the caller function g,\n",
    "then the absolute input byte array range of f, called from g, is [a + fmin, a + fmax). \n",
    "\n",
    "Let's say \n",
    "- (f1, f2, ..., fn) is the call sequence of the execution to reach the function f, and\n",
    "- i1, ..., im are the absolute indices of the input byte array that affects the control flow of a function f\n",
    "\n",
    "Then, following three inequalities are satisfied:\n",
    "- f1min + f2min + ... + f(n-1)min + fnmin <= imin\n",
    "- f1min + f2min + ... + f(n-1)min + fnmax >= imax\n",
    "- f1max - f1min >= imax - imin\n",
    "\n",
    "where, fimin, fimax are the relative input range used for the function fi regarding its caller's input byte array, and imin, imax are the max(i1, ..., im) and min(i1, ..., im) respectively.\n",
    "\n",
    "If we have bunch of the pair of ((f1, f2, ..., fn), (i1, ..., im)), we can write the above inequalities as a linear programming problem, where the global minimum of the objective function is sum_i(fimax - fimin). Below is the example of the modeling.\n",
    "\n",
    "```\n",
    "[Program's relative input range on use]\n",
    "input: [0, 10)\n",
    "func a: [5, 10)\n",
    "func b: [1, 3)\n",
    "func c: [1, 2)\n",
    "\n",
    "[Data]\n",
    "(a, b, c) -> {7},\n",
    "   (a, c) -> {6},\n",
    "   (b, c) -> {2},\n",
    "      (c) -> {1}\n",
    "=>\n",
    "func a: [5, 7)\n",
    "func b: [1, 3)\n",
    "func c: [1, 2)\n",
    "```\n",
    " <!-- [Temp] assign temporary contextmap -- need to be changed to learn this -->"
   ]
  },
  {
   "cell_type": "code",
   "execution_count": 7,
   "metadata": {},
   "outputs": [
    {
     "name": "stderr",
     "output_type": "stream",
     "text": [
      "/Users/bohrok/.pyenv/versions/3.10.6/lib/python3.10/site-packages/pulp/pulp.py:1352: UserWarning: Spaces are not permitted in the name. Converted to '_'\n",
      "  warnings.warn(\"Spaces are not permitted in the name. Converted to '_'\")\n"
     ]
    },
    {
     "name": "stdout",
     "output_type": "stream",
     "text": [
      "Welcome to the CBC MILP Solver \n",
      "Version: 2.10.3 \n",
      "Build Date: Dec 15 2019 \n",
      "\n",
      "command line - /Users/bohrok/.pyenv/versions/3.10.6/lib/python3.10/site-packages/pulp/solverdir/cbc/osx/64/cbc /var/folders/v9/wc5dh1fd691947y71hyt_2280000gn/T/b0005975fc5c4e868593b226640a1b3a-pulp.mps timeMode elapsed branch printingOptions all solution /var/folders/v9/wc5dh1fd691947y71hyt_2280000gn/T/b0005975fc5c4e868593b226640a1b3a-pulp.sol (default strategy 1)\n",
      "At line 2 NAME          MODEL\n",
      "At line 3 ROWS\n",
      "At line 17 COLUMNS\n",
      "At line 42 RHS\n",
      "At line 55 BOUNDS\n",
      "At line 62 ENDATA\n",
      "Problem MODEL has 12 rows, 6 columns and 18 elements\n",
      "Coin0008I MODEL read with 0 errors\n",
      "Option for timeMode changed from cpu to elapsed\n",
      "Presolve 0 (-12) rows, 0 (-6) columns and 0 (-18) elements\n",
      "Empty problem - 0 rows, 0 columns and 0 elements\n",
      "Optimal - objective value 12\n",
      "After Postsolve, objective 12, infeasibilities - dual 0 (0), primal 0 (0)\n",
      "Optimal objective 12 - 0 iterations time 0.002, Presolve 0.00\n",
      "Option for printingOptions changed from normal to all\n",
      "Total time (CPU seconds):       0.00   (Wallclock seconds):       0.00\n",
      "\n",
      "[context_map] k='crashme3:13' v=range(3, 7)\n",
      "[context_map] k='crashme3:15' v=range(7, 11)\n",
      "[context_map] k='crashme3:17' v=range(11, 15)\n"
     ]
    }
   ],
   "source": [
    "CFM.model_context(mut_trial=100)"
   ]
  },
  {
   "attachments": {},
   "cell_type": "markdown",
   "metadata": {},
   "source": [
    "# Stage 2. Model the branch condition regarding the input of each function\n",
    "\n",
    "For each branch condition and a set of input used in the current function, a fixed number of random predicate is generated for the true condition and the false condition. The fitness of the predicate is evaluated by the number of inputs that the result of the predicate and actual execution match. The predicate with the highest fitness is selected as the predicate for the branch condition."
   ]
  },
  {
   "cell_type": "code",
   "execution_count": 8,
   "metadata": {},
   "outputs": [
    {
     "name": "stdout",
     "output_type": "stream",
     "text": [
      "Modeling <('crashme3', 10)> -> <('crashme3', 12)>... formula: <lambda x: x[3] != x[14]> (conf: 0.9529411764705882, trial: (1000 / 1000))\n",
      "Modeling <('crashme3', 10)> -> <('crashme3', 11)>... formula: <lambda x: '\u000f' <= x[15] <= '𠑬'> (conf: 0.9294117647058824, trial: (1000 / 1000))\n",
      "Modeling <('crashme3', 12)> -> <('crashme3', 14)>... formula: <lambda x: x[0] != '1'> (conf: 1.0, trial: (88 / 1000))\n",
      "Modeling <('crashme3', 12)> -> <('crashme3', 13)>... formula: <lambda x: x[0] == '1'> (conf: 1.0, trial: (458 / 1000))\n",
      "Modeling <('crashme3', 14)> -> <('crashme3', 16)>... formula: <lambda x: x[1] != '1'> (conf: 1.0, trial: (92 / 1000))\n",
      "Modeling <('crashme3', 14)> -> <('crashme3', 15)>... formula: <lambda x: x[1] == '1'> (conf: 1.0, trial: (302 / 1000))\n",
      "Modeling <('crashme3', 16)> -> <('crashme3', 19)>... formula: <lambda x: x[2] != '1'> (conf: 1.0, trial: (159 / 1000))\n",
      "Modeling <('crashme3', 16)> -> <('crashme3', 17)>... formula: <lambda x: x[2] == '1'> (conf: 1.0, trial: (400 / 1000))\n",
      "Modeling <('crashme', 2)> -> <('crashme', 3)>... formula: <lambda x: x[0] == 'b'> (conf: 1.0, trial: (73 / 1000))\n",
      "Modeling <('crashme', 2)> -> <('__exit__', 83)>... No accepts or rejects; skip.\n",
      "Modeling <('crashme', 3)> -> <('crashme', 4)>... formula: <lambda x: x[1] == 'a'> (conf: 1.0, trial: (269 / 1000))\n",
      "Modeling <('crashme', 3)> -> <('__exit__', 83)>... No accepts or rejects; skip.\n",
      "Modeling <('crashme', 4)> -> <('crashme', 5)>... formula: <lambda x: x[2] == 'd'> (conf: 1.0, trial: (21 / 1000))\n",
      "Modeling <('crashme', 4)> -> <('__exit__', 83)>... No accepts or rejects; skip.\n",
      "Modeling <('crashme', 5)> -> <('crashme', 6)>... formula: <lambda x: x[3] == '!'> (conf: 1.0, trial: (53 / 1000))\n",
      "Modeling <('crashme', 5)> -> <('__exit__', 83)>... No accepts or rejects; skip.\n"
     ]
    }
   ],
   "source": [
    "CFM.model_condition(max_trial=1000)"
   ]
  },
  {
   "cell_type": "code",
   "execution_count": 9,
   "metadata": {},
   "outputs": [
    {
     "data": {
      "text/plain": [
       "{'crashme3:13': range(3, 7),\n",
       " 'crashme3:15': range(7, 11),\n",
       " 'crashme3:17': range(11, 15)}"
      ]
     },
     "execution_count": 9,
     "metadata": {},
     "output_type": "execute_result"
    }
   ],
   "source": [
    "CFM.get_context_map()"
   ]
  },
  {
   "cell_type": "code",
   "execution_count": 10,
   "metadata": {},
   "outputs": [
    {
     "name": "stdout",
     "output_type": "stream",
     "text": [
      "edge=E<('crashme3', 10) -> ('crashme3', 12)> cond=('lambda x: x[3] != x[14]', 0.9529411764705882)\n",
      "edge=E<('crashme3', 10) -> ('crashme3', 11)> cond=(\"lambda x: '\\x0f' <= x[15] <= '𠑬'\", 0.9294117647058824)\n",
      "edge=E<('crashme3', 12) -> ('crashme3', 14)> cond=(\"lambda x: x[0] != '1'\", 1.0)\n",
      "edge=E<('crashme3', 12) -> ('crashme3', 13)> cond=(\"lambda x: x[0] == '1'\", 1.0)\n",
      "edge=E<('crashme3', 14) -> ('crashme3', 16)> cond=(\"lambda x: x[1] != '1'\", 1.0)\n",
      "edge=E<('crashme3', 14) -> ('crashme3', 15)> cond=(\"lambda x: x[1] == '1'\", 1.0)\n",
      "edge=E<('crashme3', 16) -> ('crashme3', 19)> cond=(\"lambda x: x[2] != '1'\", 1.0)\n",
      "edge=E<('crashme3', 16) -> ('crashme3', 17)> cond=(\"lambda x: x[2] == '1'\", 1.0)\n",
      "edge=E<('crashme', 2) -> ('crashme', 3)> cond=(\"lambda x: x[0] == 'b'\", 1.0)\n",
      "edge=E<('crashme', 2) -> ('__exit__', 83)> cond=(None, None)\n",
      "edge=E<('crashme', 3) -> ('crashme', 4)> cond=(\"lambda x: x[1] == 'a'\", 1.0)\n",
      "edge=E<('crashme', 3) -> ('__exit__', 83)> cond=(None, None)\n",
      "edge=E<('crashme', 4) -> ('crashme', 5)> cond=(\"lambda x: x[2] == 'd'\", 1.0)\n",
      "edge=E<('crashme', 4) -> ('__exit__', 83)> cond=(None, None)\n",
      "edge=E<('crashme', 5) -> ('crashme', 6)> cond=(\"lambda x: x[3] == '!'\", 1.0)\n",
      "edge=E<('crashme', 5) -> ('__exit__', 83)> cond=(None, None)\n"
     ]
    }
   ],
   "source": [
    "for edge, cond in CFM.get_edge_cond().items():\n",
    "    print(f\"edge={edge} {cond=}\")"
   ]
  },
  {
   "cell_type": "code",
   "execution_count": null,
   "metadata": {},
   "outputs": [],
   "source": []
  }
 ],
 "metadata": {
  "kernelspec": {
   "display_name": "Python 3",
   "language": "python",
   "name": "python3"
  },
  "language_info": {
   "codemirror_mode": {
    "name": "ipython",
    "version": 3
   },
   "file_extension": ".py",
   "mimetype": "text/x-python",
   "name": "python",
   "nbconvert_exporter": "python",
   "pygments_lexer": "ipython3",
   "version": "3.10.6"
  },
  "orig_nbformat": 4,
  "vscode": {
   "interpreter": {
    "hash": "fcaa8b76edf8b69a929f1ef03043673df5d7a7404e1bce8ba4d2285263fa1a54"
   }
  }
 },
 "nbformat": 4,
 "nbformat_minor": 2
}
